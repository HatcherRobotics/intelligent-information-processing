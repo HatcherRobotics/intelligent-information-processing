{
 "cells": [
  {
   "cell_type": "code",
   "execution_count": 13,
   "metadata": {},
   "outputs": [],
   "source": [
    "import random"
   ]
  },
  {
   "cell_type": "code",
   "execution_count": 14,
   "metadata": {},
   "outputs": [],
   "source": [
    "def GenerateObservation(y_true,sigma):\n",
    "    x = random.normalvariate(y_true,sigma)\n",
    "    return x"
   ]
  },
  {
   "cell_type": "code",
   "execution_count": 15,
   "metadata": {},
   "outputs": [],
   "source": [
    "def CalculateWeight(sigma1,sigma2,sigma3):\n",
    "    w1 = (1/sigma1**2)/((1/sigma1**2)+(1/sigma2**2)+(1/sigma3**2))\n",
    "    return w1"
   ]
  },
  {
   "cell_type": "code",
   "execution_count": 16,
   "metadata": {},
   "outputs": [],
   "source": [
    "def WeightFusion(y_true,sigma1,sigma2,sigma3):\n",
    "    y1 = GenerateObservation(y_true,sigma1)\n",
    "    w1 = CalculateWeight(sigma1,sigma2,sigma3)\n",
    "    y2 = GenerateObservation(y_true,sigma2)\n",
    "    w2 = CalculateWeight(sigma2,sigma1,sigma3)\n",
    "    y3 = GenerateObservation(y_true,sigma3)\n",
    "    w3 = CalculateWeight(sigma3,sigma1,sigma2)\n",
    "    y = w1*y1+w2*y2+w3*y3\n",
    "    return y\n"
   ]
  },
  {
   "cell_type": "code",
   "execution_count": 22,
   "metadata": {},
   "outputs": [],
   "source": [
    "import math\n",
    "#RMSE均方误差\n",
    "#MAE平均绝对误差\n",
    "#MAPE平均绝对百分比误差\n",
    "def mse_fn(y_true,y):\n",
    "    mse = (y_true-y)**2\n",
    "    return mse\n",
    "\n",
    "def mae_fn(y_true,y):\n",
    "    mae = math.fabs(y_true-y)\n",
    "    return mae\n",
    "\n",
    "def mape_fn(y_true,y):\n",
    "    mape = math.fabs((y_true-y)/y)\n",
    "    mape = mape*100\n",
    "    return mape\n",
    "\n",
    "def eval(y_true,y):\n",
    "    mse = mse_fn(y_true,y)\n",
    "    rmse = math.sqrt(mse)\n",
    "    mae = mae_fn(y_true,y)\n",
    "    mape = mape_fn(y_true,y)\n",
    "    return [rmse, mae, mape]\n"
   ]
  },
  {
   "cell_type": "code",
   "execution_count": 23,
   "metadata": {},
   "outputs": [],
   "source": [
    "def simulation(n):\n",
    "    y_list = []\n",
    "    y_true_list=[]\n",
    "    error_list = []\n",
    "    for i in range(n):\n",
    "        y_true = random.randint(1,100)\n",
    "        y_true_list.append(y_true)\n",
    "        sigma1 = random.random()\n",
    "        sigma2 = random.random()\n",
    "        sigma3 = random.random()\n",
    "        y = WeightFusion(y_true,sigma1,sigma2,sigma3)\n",
    "        y_list.append(y)\n",
    "        error = eval(y_true,y)\n",
    "        error_list.append(error)\n",
    "    return y_true_list,y_list,error_list\n"
   ]
  },
  {
   "cell_type": "code",
   "execution_count": 24,
   "metadata": {},
   "outputs": [],
   "source": [
    "y_true_list,y_list,error_list=simulation(10)"
   ]
  },
  {
   "cell_type": "code",
   "execution_count": 25,
   "metadata": {},
   "outputs": [
    {
     "data": {
      "text/plain": [
       "[17, 19, 74, 66, 57, 54, 41, 70, 43, 3]"
      ]
     },
     "execution_count": 25,
     "metadata": {},
     "output_type": "execute_result"
    }
   ],
   "source": [
    "y_true_list"
   ]
  },
  {
   "cell_type": "code",
   "execution_count": 26,
   "metadata": {},
   "outputs": [
    {
     "data": {
      "text/plain": [
       "[17.12274147632084,\n",
       " 18.98363369182064,\n",
       " 73.95111821449927,\n",
       " 65.60107640079173,\n",
       " 56.88145292553427,\n",
       " 53.93322698013788,\n",
       " 41.38673311201646,\n",
       " 69.65607101858987,\n",
       " 43.017727827607644,\n",
       " 3.2558992291574653]"
      ]
     },
     "execution_count": 26,
     "metadata": {},
     "output_type": "execute_result"
    }
   ],
   "source": [
    "y_list"
   ]
  },
  {
   "cell_type": "code",
   "execution_count": 27,
   "metadata": {},
   "outputs": [
    {
     "data": {
      "text/plain": [
       "[[0.12274147632084009, 0.12274147632084009, 0.7168330870998674],\n",
       " [0.0163663081793608, 0.0163663081793608, 0.08621272642029776],\n",
       " [0.04888178550072553, 0.04888178550072553, 0.06610013030356245],\n",
       " [0.398923599208274, 0.398923599208274, 0.608105264570719],\n",
       " [0.11854707446573087, 0.11854707446573087, 0.20841077076727538],\n",
       " [0.06677301986211859, 0.06677301986211859, 0.12380683226447631],\n",
       " [0.3867331120164579, 0.3867331120164579, 0.9344373980177034],\n",
       " [0.34392898141013006, 0.34392898141013006, 0.4937530589664496],\n",
       " [0.017727827607643576, 0.017727827607643576, 0.04121051599630589],\n",
       " [0.2558992291574653, 0.2558992291574653, 7.859556182384822]]"
      ]
     },
     "execution_count": 27,
     "metadata": {},
     "output_type": "execute_result"
    }
   ],
   "source": [
    "error_list"
   ]
  }
 ],
 "metadata": {
  "kernelspec": {
   "display_name": "base",
   "language": "python",
   "name": "python3"
  },
  "language_info": {
   "codemirror_mode": {
    "name": "ipython",
    "version": 3
   },
   "file_extension": ".py",
   "mimetype": "text/x-python",
   "name": "python",
   "nbconvert_exporter": "python",
   "pygments_lexer": "ipython3",
   "version": "3.9.13"
  },
  "orig_nbformat": 4,
  "vscode": {
   "interpreter": {
    "hash": "c68792f7cd82460065c5d613846083f799a914df57fed46700f5555136f46f97"
   }
  }
 },
 "nbformat": 4,
 "nbformat_minor": 2
}
