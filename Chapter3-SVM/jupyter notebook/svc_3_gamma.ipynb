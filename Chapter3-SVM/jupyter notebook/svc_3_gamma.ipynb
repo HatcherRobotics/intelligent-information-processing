{
 "cells": [
  {
   "cell_type": "code",
   "execution_count": 1,
   "metadata": {},
   "outputs": [],
   "source": [
    "import pandas as pd\n",
    "from sklearn import svm\n",
    "from sklearn import datasets\n",
    "from sklearn import metrics\n",
    "from sklearn import model_selection\n",
    "import numpy as np"
   ]
  },
  {
   "cell_type": "code",
   "execution_count": 2,
   "metadata": {},
   "outputs": [],
   "source": [
    "df = pd.read_excel('CTG.xls','Data')\n",
    "df.fillna(0,inplace=True)\n",
    "\n",
    "features = np.array(df.loc[1:2126,1:21])\n",
    "target = np.array(df.loc[1:2126,23]).astype('int')\n",
    "\n",
    "x_train,x_test,y_train,y_test = model_selection.train_test_split(features,target,random_state=1,test_size=0.2)"
   ]
  },
  {
   "cell_type": "code",
   "execution_count": 3,
   "metadata": {},
   "outputs": [
    {
     "name": "stdout",
     "output_type": "stream",
     "text": [
      "SVM-输出训练集的准确率为： 0.8741176470588236\n",
      "SVM-输出测试集的准确率为： 0.8568075117370892\n",
      "              precision    recall  f1-score   support\n",
      "\n",
      "           1       0.89      0.97      0.93       326\n",
      "           2       0.70      0.47      0.56        68\n",
      "           3       0.74      0.53      0.62        32\n",
      "\n",
      "    accuracy                           0.86       426\n",
      "   macro avg       0.77      0.66      0.70       426\n",
      "weighted avg       0.84      0.86      0.84       426\n",
      "\n"
     ]
    }
   ],
   "source": [
    "#gamma='scale'\n",
    "classifier = svm.SVC(kernel='poly',gamma='scale')\n",
    "classifier.fit(x_train,y_train)\n",
    "print(\"SVM-输出训练集的准确率为：\",classifier.score(x_train,y_train))\n",
    "print(\"SVM-输出测试集的准确率为：\",classifier.score(x_test,y_test))\n",
    "y_hat = classifier.predict(x_test)\n",
    "classreport = metrics.classification_report(y_test,y_hat)\n",
    "print(classreport)"
   ]
  },
  {
   "cell_type": "code",
   "execution_count": 4,
   "metadata": {},
   "outputs": [
    {
     "name": "stdout",
     "output_type": "stream",
     "text": [
      "SVM-输出训练集的准确率为： 0.9423529411764706\n",
      "SVM-输出测试集的准确率为： 0.8849765258215962\n",
      "              precision    recall  f1-score   support\n",
      "\n",
      "           1       0.94      0.94      0.94       326\n",
      "           2       0.65      0.63      0.64        68\n",
      "           3       0.83      0.91      0.87        32\n",
      "\n",
      "    accuracy                           0.88       426\n",
      "   macro avg       0.81      0.82      0.81       426\n",
      "weighted avg       0.88      0.88      0.88       426\n",
      "\n"
     ]
    }
   ],
   "source": [
    "#gamma='auto'\n",
    "classifier = svm.SVC(kernel='poly',gamma='auto')\n",
    "classifier.fit(x_train,y_train)\n",
    "print(\"SVM-输出训练集的准确率为：\",classifier.score(x_train,y_train))\n",
    "print(\"SVM-输出测试集的准确率为：\",classifier.score(x_test,y_test))\n",
    "y_hat = classifier.predict(x_test)\n",
    "classreport = metrics.classification_report(y_test,y_hat)\n",
    "print(classreport)"
   ]
  }
 ],
 "metadata": {
  "kernelspec": {
   "display_name": "base",
   "language": "python",
   "name": "python3"
  },
  "language_info": {
   "codemirror_mode": {
    "name": "ipython",
    "version": 3
   },
   "file_extension": ".py",
   "mimetype": "text/x-python",
   "name": "python",
   "nbconvert_exporter": "python",
   "pygments_lexer": "ipython3",
   "version": "3.9.13"
  },
  "orig_nbformat": 4
 },
 "nbformat": 4,
 "nbformat_minor": 2
}
