{
 "cells": [
  {
   "cell_type": "code",
   "execution_count": 1,
   "metadata": {},
   "outputs": [],
   "source": [
    "import pandas as pd\n",
    "from sklearn import svm\n",
    "from sklearn import datasets\n",
    "from sklearn import metrics\n",
    "from sklearn import model_selection\n",
    "import numpy as np"
   ]
  },
  {
   "cell_type": "code",
   "execution_count": 2,
   "metadata": {},
   "outputs": [],
   "source": [
    "df = pd.read_excel('CTG.xls','Data')\n",
    "df.fillna(0,inplace=True)\n",
    "\n",
    "features = np.array(df.loc[1:2126,1:21])\n",
    "target = np.array(df.loc[1:2126,23]).astype('int')\n",
    "\n",
    "x_train,x_test,y_train,y_test = model_selection.train_test_split(features,target,random_state=1,test_size=0.2)"
   ]
  },
  {
   "cell_type": "code",
   "execution_count": 3,
   "metadata": {},
   "outputs": [
    {
     "name": "stdout",
     "output_type": "stream",
     "text": [
      "SVM-输出训练集的准确率为： 0.8947058823529411\n",
      "SVM-输出测试集的准确率为： 0.8685446009389671\n",
      "              precision    recall  f1-score   support\n",
      "\n",
      "           1       0.92      0.96      0.94       326\n",
      "           2       0.65      0.51      0.57        68\n",
      "           3       0.72      0.72      0.72        32\n",
      "\n",
      "    accuracy                           0.87       426\n",
      "   macro avg       0.76      0.73      0.74       426\n",
      "weighted avg       0.86      0.87      0.86       426\n",
      "\n"
     ]
    }
   ],
   "source": [
    "#C=0.1\n",
    "classifier = svm.SVC(kernel='linear',C=0.1)\n",
    "classifier.fit(x_train,y_train)\n",
    "print(\"SVM-输出训练集的准确率为：\",classifier.score(x_train,y_train))\n",
    "print(\"SVM-输出测试集的准确率为：\",classifier.score(x_test,y_test))\n",
    "y_hat = classifier.predict(x_test)\n",
    "classreport = metrics.classification_report(y_test,y_hat)\n",
    "print(classreport)"
   ]
  },
  {
   "cell_type": "code",
   "execution_count": 4,
   "metadata": {},
   "outputs": [
    {
     "name": "stdout",
     "output_type": "stream",
     "text": [
      "SVM-输出训练集的准确率为： 0.8929411764705882\n",
      "SVM-输出测试集的准确率为： 0.8708920187793427\n",
      "              precision    recall  f1-score   support\n",
      "\n",
      "           1       0.92      0.96      0.94       326\n",
      "           2       0.65      0.53      0.59        68\n",
      "           3       0.72      0.72      0.72        32\n",
      "\n",
      "    accuracy                           0.87       426\n",
      "   macro avg       0.76      0.74      0.75       426\n",
      "weighted avg       0.86      0.87      0.87       426\n",
      "\n"
     ]
    }
   ],
   "source": [
    "#C=1\n",
    "classifier = svm.SVC(kernel='linear',C=1)\n",
    "classifier.fit(x_train,y_train)\n",
    "print(\"SVM-输出训练集的准确率为：\",classifier.score(x_train,y_train))\n",
    "print(\"SVM-输出测试集的准确率为：\",classifier.score(x_test,y_test))\n",
    "y_hat = classifier.predict(x_test)\n",
    "classreport = metrics.classification_report(y_test,y_hat)\n",
    "print(classreport)"
   ]
  },
  {
   "cell_type": "code",
   "execution_count": 5,
   "metadata": {},
   "outputs": [
    {
     "name": "stdout",
     "output_type": "stream",
     "text": [
      "SVM-输出训练集的准确率为： 0.8917647058823529\n",
      "SVM-输出测试集的准确率为： 0.8826291079812206\n",
      "              precision    recall  f1-score   support\n",
      "\n",
      "           1       0.91      0.98      0.94       326\n",
      "           2       0.78      0.51      0.62        68\n",
      "           3       0.72      0.72      0.72        32\n",
      "\n",
      "    accuracy                           0.88       426\n",
      "   macro avg       0.80      0.74      0.76       426\n",
      "weighted avg       0.88      0.88      0.87       426\n",
      "\n"
     ]
    }
   ],
   "source": [
    "#C=0.01\n",
    "classifier = svm.SVC(kernel='linear',C=0.01)\n",
    "classifier.fit(x_train,y_train)\n",
    "print(\"SVM-输出训练集的准确率为：\",classifier.score(x_train,y_train))\n",
    "print(\"SVM-输出测试集的准确率为：\",classifier.score(x_test,y_test))\n",
    "y_hat = classifier.predict(x_test)\n",
    "classreport = metrics.classification_report(y_test,y_hat)\n",
    "print(classreport)"
   ]
  },
  {
   "cell_type": "code",
   "execution_count": 7,
   "metadata": {},
   "outputs": [
    {
     "name": "stdout",
     "output_type": "stream",
     "text": [
      "SVM-输出训练集的准确率为： 0.8952941176470588\n",
      "SVM-输出测试集的准确率为： 0.8708920187793427\n",
      "              precision    recall  f1-score   support\n",
      "\n",
      "           1       0.92      0.96      0.94       326\n",
      "           2       0.65      0.53      0.59        68\n",
      "           3       0.74      0.72      0.73        32\n",
      "\n",
      "    accuracy                           0.87       426\n",
      "   macro avg       0.77      0.74      0.75       426\n",
      "weighted avg       0.86      0.87      0.87       426\n",
      "\n"
     ]
    }
   ],
   "source": [
    "#C=2\n",
    "classifier = svm.SVC(kernel='linear',C=2)\n",
    "classifier.fit(x_train,y_train)\n",
    "print(\"SVM-输出训练集的准确率为：\",classifier.score(x_train,y_train))\n",
    "print(\"SVM-输出测试集的准确率为：\",classifier.score(x_test,y_test))\n",
    "y_hat = classifier.predict(x_test)\n",
    "classreport = metrics.classification_report(y_test,y_hat)\n",
    "print(classreport)"
   ]
  },
  {
   "cell_type": "code",
   "execution_count": 8,
   "metadata": {},
   "outputs": [
    {
     "name": "stdout",
     "output_type": "stream",
     "text": [
      "SVM-输出训练集的准确率为： 0.8941176470588236\n",
      "SVM-输出测试集的准确率为： 0.8732394366197183\n",
      "              precision    recall  f1-score   support\n",
      "\n",
      "           1       0.92      0.96      0.94       326\n",
      "           2       0.65      0.53      0.59        68\n",
      "           3       0.72      0.72      0.72        32\n",
      "\n",
      "    accuracy                           0.87       426\n",
      "   macro avg       0.77      0.74      0.75       426\n",
      "weighted avg       0.87      0.87      0.87       426\n",
      "\n"
     ]
    }
   ],
   "source": [
    "#C=10\n",
    "#迭代时间明显长\n",
    "classifier = svm.SVC(kernel='linear',C=10)\n",
    "classifier.fit(x_train,y_train)\n",
    "print(\"SVM-输出训练集的准确率为：\",classifier.score(x_train,y_train))\n",
    "print(\"SVM-输出测试集的准确率为：\",classifier.score(x_test,y_test))\n",
    "y_hat = classifier.predict(x_test)\n",
    "classreport = metrics.classification_report(y_test,y_hat)\n",
    "print(classreport)"
   ]
  }
 ],
 "metadata": {
  "kernelspec": {
   "display_name": "base",
   "language": "python",
   "name": "python3"
  },
  "language_info": {
   "codemirror_mode": {
    "name": "ipython",
    "version": 3
   },
   "file_extension": ".py",
   "mimetype": "text/x-python",
   "name": "python",
   "nbconvert_exporter": "python",
   "pygments_lexer": "ipython3",
   "version": "3.9.13"
  },
  "orig_nbformat": 4
 },
 "nbformat": 4,
 "nbformat_minor": 2
}
