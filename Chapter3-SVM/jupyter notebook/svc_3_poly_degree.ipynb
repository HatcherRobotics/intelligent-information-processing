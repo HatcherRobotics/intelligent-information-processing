{
 "cells": [
  {
   "cell_type": "code",
   "execution_count": 1,
   "metadata": {},
   "outputs": [],
   "source": [
    "import pandas as pd\n",
    "from sklearn import svm\n",
    "from sklearn import datasets\n",
    "from sklearn import metrics\n",
    "from sklearn import model_selection\n",
    "import numpy as np"
   ]
  },
  {
   "cell_type": "code",
   "execution_count": 2,
   "metadata": {},
   "outputs": [],
   "source": [
    "df = pd.read_excel('CTG.xls','Data')\n",
    "df.fillna(0,inplace=True)\n",
    "\n",
    "features = np.array(df.loc[1:2126,1:21])\n",
    "target = np.array(df.loc[1:2126,23]).astype('int')\n",
    "\n",
    "x_train,x_test,y_train,y_test = model_selection.train_test_split(features,target,random_state=1,test_size=0.2)"
   ]
  },
  {
   "cell_type": "code",
   "execution_count": 4,
   "metadata": {},
   "outputs": [
    {
     "name": "stdout",
     "output_type": "stream",
     "text": [
      "SVM-输出训练集的准确率为： 0.8229411764705883\n",
      "SVM-输出测试集的准确率为： 0.8004694835680751\n",
      "              precision    recall  f1-score   support\n",
      "\n",
      "           1       0.82      1.00      0.90       326\n",
      "           2       0.37      0.10      0.16        68\n",
      "           3       0.90      0.28      0.43        32\n",
      "\n",
      "    accuracy                           0.80       426\n",
      "   macro avg       0.70      0.46      0.50       426\n",
      "weighted avg       0.75      0.80      0.75       426\n",
      "\n"
     ]
    }
   ],
   "source": [
    "#degree=1\n",
    "classifier = svm.SVC(kernel='poly',degree=1)\n",
    "classifier.fit(x_train,y_train)\n",
    "print(\"SVM-输出训练集的准确率为：\",classifier.score(x_train,y_train))\n",
    "print(\"SVM-输出测试集的准确率为：\",classifier.score(x_test,y_test))\n",
    "y_hat = classifier.predict(x_test)\n",
    "classreport = metrics.classification_report(y_test,y_hat)\n",
    "print(classreport)"
   ]
  },
  {
   "cell_type": "code",
   "execution_count": 5,
   "metadata": {},
   "outputs": [
    {
     "name": "stdout",
     "output_type": "stream",
     "text": [
      "SVM-输出训练集的准确率为： 0.8629411764705882\n",
      "SVM-输出测试集的准确率为： 0.8497652582159625\n",
      "              precision    recall  f1-score   support\n",
      "\n",
      "           1       0.88      0.97      0.92       326\n",
      "           2       0.67      0.46      0.54        68\n",
      "           3       0.75      0.47      0.58        32\n",
      "\n",
      "    accuracy                           0.85       426\n",
      "   macro avg       0.77      0.63      0.68       426\n",
      "weighted avg       0.84      0.85      0.84       426\n",
      "\n"
     ]
    }
   ],
   "source": [
    "#degree=2\n",
    "classifier = svm.SVC(kernel='poly',degree=2)\n",
    "classifier.fit(x_train,y_train)\n",
    "print(\"SVM-输出训练集的准确率为：\",classifier.score(x_train,y_train))\n",
    "print(\"SVM-输出测试集的准确率为：\",classifier.score(x_test,y_test))\n",
    "y_hat = classifier.predict(x_test)\n",
    "classreport = metrics.classification_report(y_test,y_hat)\n",
    "print(classreport)"
   ]
  },
  {
   "cell_type": "code",
   "execution_count": 6,
   "metadata": {},
   "outputs": [
    {
     "name": "stdout",
     "output_type": "stream",
     "text": [
      "SVM-输出训练集的准确率为： 0.8741176470588236\n",
      "SVM-输出测试集的准确率为： 0.8568075117370892\n",
      "              precision    recall  f1-score   support\n",
      "\n",
      "           1       0.89      0.97      0.93       326\n",
      "           2       0.70      0.47      0.56        68\n",
      "           3       0.74      0.53      0.62        32\n",
      "\n",
      "    accuracy                           0.86       426\n",
      "   macro avg       0.77      0.66      0.70       426\n",
      "weighted avg       0.84      0.86      0.84       426\n",
      "\n"
     ]
    }
   ],
   "source": [
    "#degree=3\n",
    "classifier = svm.SVC(kernel='poly',degree=3)\n",
    "classifier.fit(x_train,y_train)\n",
    "print(\"SVM-输出训练集的准确率为：\",classifier.score(x_train,y_train))\n",
    "print(\"SVM-输出测试集的准确率为：\",classifier.score(x_test,y_test))\n",
    "y_hat = classifier.predict(x_test)\n",
    "classreport = metrics.classification_report(y_test,y_hat)\n",
    "print(classreport)"
   ]
  },
  {
   "cell_type": "code",
   "execution_count": 7,
   "metadata": {},
   "outputs": [
    {
     "name": "stdout",
     "output_type": "stream",
     "text": [
      "SVM-输出训练集的准确率为： 0.88\n",
      "SVM-输出测试集的准确率为： 0.8849765258215962\n",
      "              precision    recall  f1-score   support\n",
      "\n",
      "           1       0.91      0.97      0.94       326\n",
      "           2       0.79      0.56      0.66        68\n",
      "           3       0.79      0.72      0.75        32\n",
      "\n",
      "    accuracy                           0.88       426\n",
      "   macro avg       0.83      0.75      0.78       426\n",
      "weighted avg       0.88      0.88      0.88       426\n",
      "\n"
     ]
    }
   ],
   "source": [
    "#degree=4\n",
    "classifier = svm.SVC(kernel='poly',degree=4)\n",
    "classifier.fit(x_train,y_train)\n",
    "print(\"SVM-输出训练集的准确率为：\",classifier.score(x_train,y_train))\n",
    "print(\"SVM-输出测试集的准确率为：\",classifier.score(x_test,y_test))\n",
    "y_hat = classifier.predict(x_test)\n",
    "classreport = metrics.classification_report(y_test,y_hat)\n",
    "print(classreport)"
   ]
  },
  {
   "cell_type": "code",
   "execution_count": 8,
   "metadata": {},
   "outputs": [
    {
     "name": "stdout",
     "output_type": "stream",
     "text": [
      "SVM-输出训练集的准确率为： 0.8852941176470588\n",
      "SVM-输出测试集的准确率为： 0.8896713615023474\n",
      "              precision    recall  f1-score   support\n",
      "\n",
      "           1       0.91      0.97      0.94       326\n",
      "           2       0.79      0.60      0.68        68\n",
      "           3       0.79      0.72      0.75        32\n",
      "\n",
      "    accuracy                           0.89       426\n",
      "   macro avg       0.83      0.76      0.79       426\n",
      "weighted avg       0.88      0.89      0.88       426\n",
      "\n"
     ]
    }
   ],
   "source": [
    "#degree=5\n",
    "classifier = svm.SVC(kernel='poly',degree=5)\n",
    "classifier.fit(x_train,y_train)\n",
    "print(\"SVM-输出训练集的准确率为：\",classifier.score(x_train,y_train))\n",
    "print(\"SVM-输出测试集的准确率为：\",classifier.score(x_test,y_test))\n",
    "y_hat = classifier.predict(x_test)\n",
    "classreport = metrics.classification_report(y_test,y_hat)\n",
    "print(classreport)"
   ]
  },
  {
   "cell_type": "code",
   "execution_count": 9,
   "metadata": {},
   "outputs": [
    {
     "name": "stdout",
     "output_type": "stream",
     "text": [
      "SVM-输出训练集的准确率为： 0.8923529411764706\n",
      "SVM-输出测试集的准确率为： 0.892018779342723\n",
      "              precision    recall  f1-score   support\n",
      "\n",
      "           1       0.91      0.97      0.94       326\n",
      "           2       0.80      0.59      0.68        68\n",
      "           3       0.85      0.72      0.78        32\n",
      "\n",
      "    accuracy                           0.89       426\n",
      "   macro avg       0.85      0.76      0.80       426\n",
      "weighted avg       0.89      0.89      0.89       426\n",
      "\n"
     ]
    }
   ],
   "source": [
    "#degree=6\n",
    "classifier = svm.SVC(kernel='poly',degree=6)\n",
    "classifier.fit(x_train,y_train)\n",
    "print(\"SVM-输出训练集的准确率为：\",classifier.score(x_train,y_train))\n",
    "print(\"SVM-输出测试集的准确率为：\",classifier.score(x_test,y_test))\n",
    "y_hat = classifier.predict(x_test)\n",
    "classreport = metrics.classification_report(y_test,y_hat)\n",
    "print(classreport)"
   ]
  },
  {
   "cell_type": "code",
   "execution_count": 10,
   "metadata": {},
   "outputs": [
    {
     "name": "stdout",
     "output_type": "stream",
     "text": [
      "SVM-输出训练集的准确率为： 0.8947058823529411\n",
      "SVM-输出测试集的准确率为： 0.8873239436619719\n",
      "              precision    recall  f1-score   support\n",
      "\n",
      "           1       0.91      0.97      0.94       326\n",
      "           2       0.78      0.56      0.65        68\n",
      "           3       0.85      0.72      0.78        32\n",
      "\n",
      "    accuracy                           0.89       426\n",
      "   macro avg       0.84      0.75      0.79       426\n",
      "weighted avg       0.88      0.89      0.88       426\n",
      "\n"
     ]
    }
   ],
   "source": [
    "#degree=7\n",
    "classifier = svm.SVC(kernel='poly',degree=7)\n",
    "classifier.fit(x_train,y_train)\n",
    "print(\"SVM-输出训练集的准确率为：\",classifier.score(x_train,y_train))\n",
    "print(\"SVM-输出测试集的准确率为：\",classifier.score(x_test,y_test))\n",
    "y_hat = classifier.predict(x_test)\n",
    "classreport = metrics.classification_report(y_test,y_hat)\n",
    "print(classreport)"
   ]
  },
  {
   "cell_type": "code",
   "execution_count": 11,
   "metadata": {},
   "outputs": [
    {
     "name": "stdout",
     "output_type": "stream",
     "text": [
      "SVM-输出训练集的准确率为： 0.9158823529411765\n",
      "SVM-输出测试集的准确率为： 0.8967136150234741\n",
      "              precision    recall  f1-score   support\n",
      "\n",
      "           1       0.91      0.98      0.94       326\n",
      "           2       0.82      0.54      0.65        68\n",
      "           3       0.90      0.81      0.85        32\n",
      "\n",
      "    accuracy                           0.90       426\n",
      "   macro avg       0.88      0.78      0.82       426\n",
      "weighted avg       0.89      0.90      0.89       426\n",
      "\n"
     ]
    }
   ],
   "source": [
    "#degree=10\n",
    "classifier = svm.SVC(kernel='poly',degree=10)\n",
    "classifier.fit(x_train,y_train)\n",
    "print(\"SVM-输出训练集的准确率为：\",classifier.score(x_train,y_train))\n",
    "print(\"SVM-输出测试集的准确率为：\",classifier.score(x_test,y_test))\n",
    "y_hat = classifier.predict(x_test)\n",
    "classreport = metrics.classification_report(y_test,y_hat)\n",
    "print(classreport)"
   ]
  },
  {
   "cell_type": "code",
   "execution_count": 12,
   "metadata": {},
   "outputs": [
    {
     "name": "stdout",
     "output_type": "stream",
     "text": [
      "SVM-输出训练集的准确率为： 0.9411764705882353\n",
      "SVM-输出测试集的准确率为： 0.8967136150234741\n",
      "              precision    recall  f1-score   support\n",
      "\n",
      "           1       0.91      0.98      0.94       326\n",
      "           2       0.79      0.56      0.66        68\n",
      "           3       0.87      0.81      0.84        32\n",
      "\n",
      "    accuracy                           0.90       426\n",
      "   macro avg       0.86      0.78      0.81       426\n",
      "weighted avg       0.89      0.90      0.89       426\n",
      "\n"
     ]
    }
   ],
   "source": [
    "#degree=15\n",
    "classifier = svm.SVC(kernel='poly',degree=15)\n",
    "classifier.fit(x_train,y_train)\n",
    "print(\"SVM-输出训练集的准确率为：\",classifier.score(x_train,y_train))\n",
    "print(\"SVM-输出测试集的准确率为：\",classifier.score(x_test,y_test))\n",
    "y_hat = classifier.predict(x_test)\n",
    "classreport = metrics.classification_report(y_test,y_hat)\n",
    "print(classreport)"
   ]
  }
 ],
 "metadata": {
  "kernelspec": {
   "display_name": "base",
   "language": "python",
   "name": "python3"
  },
  "language_info": {
   "codemirror_mode": {
    "name": "ipython",
    "version": 3
   },
   "file_extension": ".py",
   "mimetype": "text/x-python",
   "name": "python",
   "nbconvert_exporter": "python",
   "pygments_lexer": "ipython3",
   "version": "3.9.13"
  },
  "orig_nbformat": 4
 },
 "nbformat": 4,
 "nbformat_minor": 2
}
