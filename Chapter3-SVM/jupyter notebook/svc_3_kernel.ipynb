{
 "cells": [
  {
   "cell_type": "code",
   "execution_count": 1,
   "metadata": {},
   "outputs": [],
   "source": [
    "import pandas as pd\n",
    "from sklearn import svm\n",
    "from sklearn import datasets\n",
    "from sklearn import metrics\n",
    "from sklearn import model_selection\n",
    "import numpy as np"
   ]
  },
  {
   "cell_type": "code",
   "execution_count": 2,
   "metadata": {},
   "outputs": [],
   "source": [
    "df = pd.read_excel('CTG.xls','Data')\n",
    "df.fillna(0,inplace=True)\n",
    "\n",
    "features = np.array(df.loc[1:2126,1:21])\n",
    "target = np.array(df.loc[1:2126,23]).astype('int')\n",
    "\n",
    "x_train,x_test,y_train,y_test = model_selection.train_test_split(features,target,random_state=1,test_size=0.2)\n"
   ]
  },
  {
   "cell_type": "code",
   "execution_count": 3,
   "metadata": {},
   "outputs": [
    {
     "name": "stdout",
     "output_type": "stream",
     "text": [
      "SVM-输出训练集的准确率为： 0.8947058823529411\n",
      "SVM-输出测试集的准确率为： 0.8685446009389671\n",
      "              precision    recall  f1-score   support\n",
      "\n",
      "           1       0.92      0.96      0.94       326\n",
      "           2       0.65      0.51      0.57        68\n",
      "           3       0.72      0.72      0.72        32\n",
      "\n",
      "    accuracy                           0.87       426\n",
      "   macro avg       0.76      0.73      0.74       426\n",
      "weighted avg       0.86      0.87      0.86       426\n",
      "\n"
     ]
    }
   ],
   "source": [
    "# kernel = 'linear'\n",
    "classifier = svm.SVC(kernel='linear',gamma=0.1,decision_function_shape='ovo',C=0.1)\n",
    "classifier.fit(x_train,y_train)\n",
    "print(\"SVM-输出训练集的准确率为：\",classifier.score(x_train,y_train))\n",
    "print(\"SVM-输出测试集的准确率为：\",classifier.score(x_test,y_test))\n",
    "y_hat = classifier.predict(x_test)\n",
    "classreport = metrics.classification_report(y_test,y_hat)\n",
    "print(classreport)"
   ]
  },
  {
   "cell_type": "code",
   "execution_count": 4,
   "metadata": {},
   "outputs": [
    {
     "name": "stdout",
     "output_type": "stream",
     "text": [
      "SVM-输出训练集的准确率为： 0.9505882352941176\n",
      "SVM-输出测试集的准确率为： 0.8943661971830986\n",
      "              precision    recall  f1-score   support\n",
      "\n",
      "           1       0.93      0.95      0.94       326\n",
      "           2       0.69      0.63      0.66        68\n",
      "           3       0.88      0.91      0.89        32\n",
      "\n",
      "    accuracy                           0.89       426\n",
      "   macro avg       0.84      0.83      0.83       426\n",
      "weighted avg       0.89      0.89      0.89       426\n",
      "\n"
     ]
    }
   ],
   "source": [
    "# kernel = 'poly'\n",
    "#23m\n",
    "classifier = svm.SVC(kernel='poly',gamma=0.1,decision_function_shape='ovo',C=0.1)\n",
    "classifier.fit(x_train,y_train)\n",
    "print(\"SVM-输出训练集的准确率为：\",classifier.score(x_train,y_train))\n",
    "print(\"SVM-输出测试集的准确率为：\",classifier.score(x_test,y_test))\n",
    "y_hat = classifier.predict(x_test)\n",
    "classreport = metrics.classification_report(y_test,y_hat)\n",
    "print(classreport)"
   ]
  },
  {
   "cell_type": "code",
   "execution_count": 5,
   "metadata": {},
   "outputs": [
    {
     "name": "stdout",
     "output_type": "stream",
     "text": [
      "SVM-输出训练集的准确率为： 0.7817647058823529\n",
      "SVM-输出测试集的准确率为： 0.7652582159624414\n",
      "              precision    recall  f1-score   support\n",
      "\n",
      "           1       0.77      1.00      0.87       326\n",
      "           2       0.00      0.00      0.00        68\n",
      "           3       0.00      0.00      0.00        32\n",
      "\n",
      "    accuracy                           0.77       426\n",
      "   macro avg       0.26      0.33      0.29       426\n",
      "weighted avg       0.59      0.77      0.66       426\n",
      "\n"
     ]
    },
    {
     "name": "stderr",
     "output_type": "stream",
     "text": [
      "/home/hatcher/anaconda3/lib/python3.9/site-packages/sklearn/metrics/_classification.py:1318: UndefinedMetricWarning: Precision and F-score are ill-defined and being set to 0.0 in labels with no predicted samples. Use `zero_division` parameter to control this behavior.\n",
      "  _warn_prf(average, modifier, msg_start, len(result))\n",
      "/home/hatcher/anaconda3/lib/python3.9/site-packages/sklearn/metrics/_classification.py:1318: UndefinedMetricWarning: Precision and F-score are ill-defined and being set to 0.0 in labels with no predicted samples. Use `zero_division` parameter to control this behavior.\n",
      "  _warn_prf(average, modifier, msg_start, len(result))\n",
      "/home/hatcher/anaconda3/lib/python3.9/site-packages/sklearn/metrics/_classification.py:1318: UndefinedMetricWarning: Precision and F-score are ill-defined and being set to 0.0 in labels with no predicted samples. Use `zero_division` parameter to control this behavior.\n",
      "  _warn_prf(average, modifier, msg_start, len(result))\n"
     ]
    }
   ],
   "source": [
    "# kernel = 'rbf'\n",
    "classifier = svm.SVC(kernel='rbf',gamma=0.1,decision_function_shape='ovo',C=0.1)\n",
    "classifier.fit(x_train,y_train)\n",
    "print(\"SVM-输出训练集的准确率为：\",classifier.score(x_train,y_train))\n",
    "print(\"SVM-输出测试集的准确率为：\",classifier.score(x_test,y_test))\n",
    "y_hat = classifier.predict(x_test)\n",
    "classreport = metrics.classification_report(y_test,y_hat)\n",
    "print(classreport)"
   ]
  },
  {
   "cell_type": "code",
   "execution_count": 6,
   "metadata": {},
   "outputs": [
    {
     "name": "stdout",
     "output_type": "stream",
     "text": [
      "SVM-输出训练集的准确率为： 0.7817647058823529\n",
      "SVM-输出测试集的准确率为： 0.7652582159624414\n",
      "              precision    recall  f1-score   support\n",
      "\n",
      "           1       0.77      1.00      0.87       326\n",
      "           2       0.00      0.00      0.00        68\n",
      "           3       0.00      0.00      0.00        32\n",
      "\n",
      "    accuracy                           0.77       426\n",
      "   macro avg       0.26      0.33      0.29       426\n",
      "weighted avg       0.59      0.77      0.66       426\n",
      "\n"
     ]
    },
    {
     "name": "stderr",
     "output_type": "stream",
     "text": [
      "/home/hatcher/anaconda3/lib/python3.9/site-packages/sklearn/metrics/_classification.py:1318: UndefinedMetricWarning: Precision and F-score are ill-defined and being set to 0.0 in labels with no predicted samples. Use `zero_division` parameter to control this behavior.\n",
      "  _warn_prf(average, modifier, msg_start, len(result))\n",
      "/home/hatcher/anaconda3/lib/python3.9/site-packages/sklearn/metrics/_classification.py:1318: UndefinedMetricWarning: Precision and F-score are ill-defined and being set to 0.0 in labels with no predicted samples. Use `zero_division` parameter to control this behavior.\n",
      "  _warn_prf(average, modifier, msg_start, len(result))\n",
      "/home/hatcher/anaconda3/lib/python3.9/site-packages/sklearn/metrics/_classification.py:1318: UndefinedMetricWarning: Precision and F-score are ill-defined and being set to 0.0 in labels with no predicted samples. Use `zero_division` parameter to control this behavior.\n",
      "  _warn_prf(average, modifier, msg_start, len(result))\n"
     ]
    }
   ],
   "source": [
    "# kernel = 'sigmoid'\n",
    "classifier = svm.SVC(kernel='sigmoid',gamma=0.1,decision_function_shape='ovo',C=0.1)\n",
    "classifier.fit(x_train,y_train)\n",
    "print(\"SVM-输出训练集的准确率为：\",classifier.score(x_train,y_train))\n",
    "print(\"SVM-输出测试集的准确率为：\",classifier.score(x_test,y_test))\n",
    "y_hat = classifier.predict(x_test)\n",
    "classreport = metrics.classification_report(y_test,y_hat)\n",
    "print(classreport)"
   ]
  },
  {
   "cell_type": "code",
   "execution_count": 7,
   "metadata": {},
   "outputs": [
    {
     "ename": "ValueError",
     "evalue": "Precomputed matrix must be a square matrix. Input is a 1700x21 matrix.",
     "output_type": "error",
     "traceback": [
      "\u001b[0;31m---------------------------------------------------------------------------\u001b[0m",
      "\u001b[0;31mValueError\u001b[0m                                Traceback (most recent call last)",
      "\u001b[0;32m/tmp/ipykernel_139858/2975071036.py\u001b[0m in \u001b[0;36m<module>\u001b[0;34m\u001b[0m\n\u001b[1;32m      1\u001b[0m \u001b[0;31m# kernel = 'precomputed'\u001b[0m\u001b[0;34m\u001b[0m\u001b[0;34m\u001b[0m\u001b[0m\n\u001b[1;32m      2\u001b[0m \u001b[0mclassifier\u001b[0m \u001b[0;34m=\u001b[0m \u001b[0msvm\u001b[0m\u001b[0;34m.\u001b[0m\u001b[0mSVC\u001b[0m\u001b[0;34m(\u001b[0m\u001b[0mkernel\u001b[0m\u001b[0;34m=\u001b[0m\u001b[0;34m'precomputed'\u001b[0m\u001b[0;34m,\u001b[0m\u001b[0mgamma\u001b[0m\u001b[0;34m=\u001b[0m\u001b[0;36m0.1\u001b[0m\u001b[0;34m,\u001b[0m\u001b[0mdecision_function_shape\u001b[0m\u001b[0;34m=\u001b[0m\u001b[0;34m'ovo'\u001b[0m\u001b[0;34m,\u001b[0m\u001b[0mC\u001b[0m\u001b[0;34m=\u001b[0m\u001b[0;36m0.1\u001b[0m\u001b[0;34m)\u001b[0m\u001b[0;34m\u001b[0m\u001b[0;34m\u001b[0m\u001b[0m\n\u001b[0;32m----> 3\u001b[0;31m \u001b[0mclassifier\u001b[0m\u001b[0;34m.\u001b[0m\u001b[0mfit\u001b[0m\u001b[0;34m(\u001b[0m\u001b[0mx_train\u001b[0m\u001b[0;34m,\u001b[0m\u001b[0my_train\u001b[0m\u001b[0;34m)\u001b[0m\u001b[0;34m\u001b[0m\u001b[0;34m\u001b[0m\u001b[0m\n\u001b[0m\u001b[1;32m      4\u001b[0m \u001b[0mprint\u001b[0m\u001b[0;34m(\u001b[0m\u001b[0;34m\"SVM-输出训练集的准确率为：\"\u001b[0m\u001b[0;34m,\u001b[0m\u001b[0mclassifier\u001b[0m\u001b[0;34m.\u001b[0m\u001b[0mscore\u001b[0m\u001b[0;34m(\u001b[0m\u001b[0mx_train\u001b[0m\u001b[0;34m,\u001b[0m\u001b[0my_train\u001b[0m\u001b[0;34m)\u001b[0m\u001b[0;34m)\u001b[0m\u001b[0;34m\u001b[0m\u001b[0;34m\u001b[0m\u001b[0m\n\u001b[1;32m      5\u001b[0m \u001b[0mprint\u001b[0m\u001b[0;34m(\u001b[0m\u001b[0;34m\"SVM-输出测试集的准确率为：\"\u001b[0m\u001b[0;34m,\u001b[0m\u001b[0mclassifier\u001b[0m\u001b[0;34m.\u001b[0m\u001b[0mscore\u001b[0m\u001b[0;34m(\u001b[0m\u001b[0mx_test\u001b[0m\u001b[0;34m,\u001b[0m\u001b[0my_test\u001b[0m\u001b[0;34m)\u001b[0m\u001b[0;34m)\u001b[0m\u001b[0;34m\u001b[0m\u001b[0;34m\u001b[0m\u001b[0m\n",
      "\u001b[0;32m~/anaconda3/lib/python3.9/site-packages/sklearn/svm/_base.py\u001b[0m in \u001b[0;36mfit\u001b[0;34m(self, X, y, sample_weight)\u001b[0m\n\u001b[1;32m    213\u001b[0m \u001b[0;34m\u001b[0m\u001b[0m\n\u001b[1;32m    214\u001b[0m         \u001b[0;32mif\u001b[0m \u001b[0mself\u001b[0m\u001b[0;34m.\u001b[0m\u001b[0mkernel\u001b[0m \u001b[0;34m==\u001b[0m \u001b[0;34m\"precomputed\"\u001b[0m \u001b[0;32mand\u001b[0m \u001b[0mn_samples\u001b[0m \u001b[0;34m!=\u001b[0m \u001b[0mX\u001b[0m\u001b[0;34m.\u001b[0m\u001b[0mshape\u001b[0m\u001b[0;34m[\u001b[0m\u001b[0;36m1\u001b[0m\u001b[0;34m]\u001b[0m\u001b[0;34m:\u001b[0m\u001b[0;34m\u001b[0m\u001b[0;34m\u001b[0m\u001b[0m\n\u001b[0;32m--> 215\u001b[0;31m             raise ValueError(\n\u001b[0m\u001b[1;32m    216\u001b[0m                 \u001b[0;34m\"Precomputed matrix must be a square matrix.\"\u001b[0m\u001b[0;34m\u001b[0m\u001b[0;34m\u001b[0m\u001b[0m\n\u001b[1;32m    217\u001b[0m                 \u001b[0;34m\" Input is a {}x{} matrix.\"\u001b[0m\u001b[0;34m.\u001b[0m\u001b[0mformat\u001b[0m\u001b[0;34m(\u001b[0m\u001b[0mX\u001b[0m\u001b[0;34m.\u001b[0m\u001b[0mshape\u001b[0m\u001b[0;34m[\u001b[0m\u001b[0;36m0\u001b[0m\u001b[0;34m]\u001b[0m\u001b[0;34m,\u001b[0m \u001b[0mX\u001b[0m\u001b[0;34m.\u001b[0m\u001b[0mshape\u001b[0m\u001b[0;34m[\u001b[0m\u001b[0;36m1\u001b[0m\u001b[0;34m]\u001b[0m\u001b[0;34m)\u001b[0m\u001b[0;34m\u001b[0m\u001b[0;34m\u001b[0m\u001b[0m\n",
      "\u001b[0;31mValueError\u001b[0m: Precomputed matrix must be a square matrix. Input is a 1700x21 matrix."
     ]
    }
   ],
   "source": [
    "# kernel = 'precomputed'\n",
    "classifier = svm.SVC(kernel='precomputed',gamma=0.1,decision_function_shape='ovo',C=0.1)\n",
    "classifier.fit(x_train,y_train)\n",
    "print(\"SVM-输出训练集的准确率为：\",classifier.score(x_train,y_train))\n",
    "print(\"SVM-输出测试集的准确率为：\",classifier.score(x_test,y_test))\n",
    "y_hat = classifier.predict(x_test)\n",
    "classreport = metrics.classification_report(y_test,y_hat)\n",
    "print(classreport)"
   ]
  }
 ],
 "metadata": {
  "kernelspec": {
   "display_name": "base",
   "language": "python",
   "name": "python3"
  },
  "language_info": {
   "codemirror_mode": {
    "name": "ipython",
    "version": 3
   },
   "file_extension": ".py",
   "mimetype": "text/x-python",
   "name": "python",
   "nbconvert_exporter": "python",
   "pygments_lexer": "ipython3",
   "version": "3.9.13"
  },
  "orig_nbformat": 4
 },
 "nbformat": 4,
 "nbformat_minor": 2
}
